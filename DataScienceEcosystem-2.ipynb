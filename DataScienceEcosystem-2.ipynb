{
  "cells": [
    {
      "cell_type": "markdown",
      "metadata": {
        "id": "P9FHmf3kthni"
      },
      "source": [
        "<center>\n",
        "    <img src=\"https://cf-courses-data.s3.us.cloud-object-storage.appdomain.cloud/IBMDeveloperSkillsNetwork-DS0105EN-SkillsNetwork/labs/Module2/images/SN_web_lightmode.png\" width=\"300\" alt=\"cognitiveclass.ai logo\">\n",
        "</center>\n"
      ]
    },
    {
      "cell_type": "markdown",
      "metadata": {
        "id": "xNV1X1xAthnm"
      },
      "source": [
        "#### Add your code below following the instructions given in the course\n"
      ]
    },
    {
      "cell_type": "markdown",
      "source": [
        "#Data Science Tool and Ecosystem"
      ],
      "metadata": {
        "id": "A8XGbN6Utp4P"
      }
    },
    {
      "cell_type": "markdown",
      "source": [
        "In this notebook Data sSience Tools and Ecosystem are summerised"
      ],
      "metadata": {
        "id": "t8QxYzKeuGdn"
      }
    },
    {
      "cell_type": "markdown",
      "source": [
        "**Objectives:**\n",
        "\n",
        "\n",
        "* Python\n",
        "* SQL\n",
        "* R\n",
        "* Juia\n",
        "\n",
        "\n"
      ],
      "metadata": {
        "id": "WPugOWgU8FNy"
      }
    },
    {
      "cell_type": "markdown",
      "source": [
        "Some of the popular languages for data scientists are:\n",
        "\n",
        "\n",
        "1.   Python\n",
        "2.   SQL\n",
        "3.   R\n",
        "4.   Juia\n",
        "\n",
        "\n",
        "\n",
        "\n"
      ],
      "metadata": {
        "id": "LENsDs97u9R4"
      }
    },
    {
      "cell_type": "markdown",
      "source": [
        "Some of the common libraries used by data scientists include:\n",
        "\n",
        "\n",
        "1.   Numpy\n",
        "2.   Pandas\n",
        "3.   Scipy\n",
        "4.   Matplotlib\n",
        "5.   Seaborn\n",
        "6.   Caret  \n"
      ],
      "metadata": {
        "id": "5xVzDx39wMmT"
      }
    },
    {
      "cell_type": "markdown",
      "source": [
        "|Data science tools|\n",
        "|------------------|\n",
        "|Watson Studio     |\n",
        "|Jupiter Lab       |\n",
        "|R Studio          |"
      ],
      "metadata": {
        "id": "ra7iTeD0w_LS"
      }
    },
    {
      "cell_type": "markdown",
      "source": [
        "###Below are a few of the examples of evaluating arithmatic expressions in Python:"
      ],
      "metadata": {
        "id": "srDBtaLTyhk-"
      }
    },
    {
      "cell_type": "code",
      "source": [
        "# This is simple arithmatic operation to multiply and add integers\n",
        "(3*4)+5"
      ],
      "metadata": {
        "colab": {
          "base_uri": "https://localhost:8080/"
        },
        "id": "1DhbMDKNuFgY",
        "outputId": "9d0f322a-a869-492e-86fc-7fde72acb212"
      },
      "execution_count": 1,
      "outputs": [
        {
          "output_type": "execute_result",
          "data": {
            "text/plain": [
              "17"
            ]
          },
          "metadata": {},
          "execution_count": 1
        }
      ]
    },
    {
      "cell_type": "code",
      "execution_count": 4,
      "metadata": {
        "colab": {
          "base_uri": "https://localhost:8080/"
        },
        "id": "UUcMTBhXthnm",
        "outputId": "7746e08a-63c8-4dec-de45-b5d9abe760c4"
      },
      "outputs": [
        {
          "output_type": "stream",
          "name": "stdout",
          "text": [
            "200 minutes is =3.3333333333333335 hours\n"
          ]
        }
      ],
      "source": [
        "# This will conver the 200 minute into hours:\n",
        "time_in_minutes = 200\n",
        "time_in_hours = time_in_minutes/60\n",
        "print(f\"200 minutes is ={time_in_hours} hours\")"
      ]
    },
    {
      "cell_type": "markdown",
      "source": [
        "##Author\n",
        "Sujeet Kumar Vishwakarma"
      ],
      "metadata": {
        "id": "a2hag3iN9BpP"
      }
    },
    {
      "cell_type": "markdown",
      "source": [],
      "metadata": {
        "id": "cf7u2NVH74ml"
      }
    }
  ],
  "metadata": {
    "kernelspec": {
      "display_name": "Python",
      "language": "python",
      "name": "conda-env-python-py"
    },
    "language_info": {
      "codemirror_mode": {
        "name": "ipython",
        "version": 3
      },
      "file_extension": ".py",
      "mimetype": "text/x-python",
      "name": "python",
      "nbconvert_exporter": "python",
      "pygments_lexer": "ipython3",
      "version": "3.7.12"
    },
    "colab": {
      "provenance": []
    }
  },
  "nbformat": 4,
  "nbformat_minor": 0
}